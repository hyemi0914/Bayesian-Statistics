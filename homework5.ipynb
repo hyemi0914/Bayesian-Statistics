{
 "cells": [
  {
   "cell_type": "code",
   "execution_count": 3,
   "id": "69cfa1af-0e76-4b5b-b2d3-8af62cba8969",
   "metadata": {},
   "outputs": [],
   "source": [
    "import numpy as np \n",
    "from scipy.stats import norm\n",
    "n = 10000 # Number of Mte Carlo samples\n",
    "np.random.seed(0) # Initialization of random number generator for replicability"
   ]
  },
  {
   "cell_type": "code",
   "execution_count": 5,
   "id": "7afc4d4e-1597-42a2-b694-652cc0c52377",
   "metadata": {},
   "outputs": [
    {
     "name": "stdout",
     "output_type": "stream",
     "text": [
      "Standard Monte-Carlo estimate of the expected value: 0.08579415409780462\n",
      "Standard deviation of plain-vanilla Monte Carlo: 0.007904811247115087\n",
      " \n"
     ]
    }
   ],
   "source": [
    "# Standard Monte Carlo\n",
    "x = np.random.randn(n, 1)\n",
    "g = 10 * np.exp(-5 * (x - 3) ** 4)\n",
    "MC = np.mean(g)\n",
    "std_MC = np.sqrt(( 1 / n) * np.var(g))\n",
    "print('Standard Monte-Carlo estimate of the expected value: ' + str(MC))\n",
    "print('Standard deviation of plain-vanilla Monte Carlo: ' + str(std_MC))\n",
    "print(' ')"
   ]
  },
  {
   "cell_type": "code",
   "execution_count": 7,
   "id": "04ca83a4-720a-425f-a317-a5422a4fb9f1",
   "metadata": {},
   "outputs": [
    {
     "name": "stdout",
     "output_type": "stream",
     "text": [
      "Importance-sampling Monte-Carlo estimate of the expected value: 0.09096069224808337\n",
      "Standard deviation of importance-sampling Monte Carlo: 0.0011925073695279826\n"
     ]
    }
   ],
   "source": [
    "# Importance sampling\n",
    "y = 3 + np.random.randn(n, 1);\n",
    "g = 10 * np.exp(-5 * (y  - 3) ** 4);\n",
    "g_weighted = g * norm.pdf(y, 0, 1) / norm.pdf(y, 3, 1);\n",
    "IS = np.mean(g_weighted)\n",
    "std_IS = np.sqrt((1 / n) * np.var(g_weighted))\n",
    "print('Importance-sampling Monte-Carlo estimate of the expected value: ' + str(IS))\n",
    "print('Standard deviation of importance-sampling Monte Carlo: ' + str(std_IS))"
   ]
  }
 ],
 "metadata": {
  "kernelspec": {
   "display_name": "Python 3 (ipykernel)",
   "language": "python",
   "name": "python3"
  },
  "language_info": {
   "codemirror_mode": {
    "name": "ipython",
    "version": 3
   },
   "file_extension": ".py",
   "mimetype": "text/x-python",
   "name": "python",
   "nbconvert_exporter": "python",
   "pygments_lexer": "ipython3",
   "version": "3.12.4"
  }
 },
 "nbformat": 4,
 "nbformat_minor": 5
}
